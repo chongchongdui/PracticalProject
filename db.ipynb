{
 "cells": [
  {
   "cell_type": "code",
   "execution_count": null,
   "metadata": {},
   "outputs": [],
   "source": [
    "import pymysql\n",
    "#连接数据库\n",
    "db = pymysql.connect(\n",
    "        host=\"localhost\",\n",
    "        user=\"root\",\n",
    "        password=\"123456\",\n",
    "        database = \"book\",\n",
    "        charset=\"utf8\")\n",
    "cursor = db.cursor()\n",
    "db = pymysql.connect(\n",
    "        host=\"localhost\",\n",
    "        user=\"root\",\n",
    "        password=\"123456\",\n",
    "        database = \"book\",\n",
    "        charset=\"utf8\")\n",
    "cursor = db.cursor()\n",
    "\n",
    "cursor.execute('CREATE TABLE IF NOT EXISTS jingdong(网址 VARCHAR(255) NOT NULL, 价格 VARCHAR(255) NOT NULL,书名 VARCHAR(255) NOT NULL,书评 VARCHAR(255) NOT NULL,商店 VARCHAR(255) NOT NULL)')   \n",
    "print('ok')"
   ]
  }
 ],
 "metadata": {
  "kernelspec": {
   "display_name": "Python 3",
   "language": "python",
   "name": "python3"
  },
  "language_info": {
   "codemirror_mode": {
    "name": "ipython",
    "version": 3
   },
   "file_extension": ".py",
   "mimetype": "text/x-python",
   "name": "python",
   "nbconvert_exporter": "python",
   "pygments_lexer": "ipython3",
   "version": "3.7.1"
  }
 },
 "nbformat": 4,
 "nbformat_minor": 2
}
