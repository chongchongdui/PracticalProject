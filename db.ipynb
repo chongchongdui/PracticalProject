{
 "cells": [
  {
   "cell_type": "code",
   "execution_count": null,
   "metadata": {},
   "outputs": [],
   "source": [
    "import pymysql\n",
    "#连接数据库\n",
    "db = pymysql.connect(\n",
    "        host=\"localhost\",\n",
    "        user=\"root\",\n",
    "        password=\"123456\",\n",
    "        database = \"book\",\n",
    "        charset=\"utf8\")\n",
    "cursor = db.cursor()\n",
    "db = pymysql.connect(\n",
    "        host=\"localhost\",\n",
    "        user=\"root\",\n",
    "        password=\"123456\",\n",
    "        database = \"book\",\n",
    "        charset=\"utf8\")\n",
    "cursor = db.cursor()\n",
    "\n",
    "cursor.execute('CREATE TABLE IF NOT EXISTS jingdong(网址 VARCHAR(255) NOT NULL, 价格 VARCHAR(255) NOT NULL,书名 VARCHAR(255) NOT NULL,书评 VARCHAR(255) NOT NULL,商店 VARCHAR(255) NOT NULL)')   \n",
    "print('ok')\n",
    "\n",
    "def connet(data):  #将数据保存到数据库\n",
    "    db = pymysql.connect(host='localhost', user='root', password='123456', port=3306, database = \"book\")\n",
    "    cursor = db.cursor()\n",
    "    table = 'jingdong'\n",
    "    keys = ', '.join(data.keys())\n",
    "    values = ', '.join(['%s'] * len(data))    \n",
    "    sql = 'INSERT INTO {table}({keys}) VALUES ({values})'.format(table=table, keys=keys, values=values)\n",
    "    try:\n",
    "        cursor.execute(sql, tuple(data.values()))\n",
    "        db.commit()\n",
    "    except:\n",
    "        db.rollback()\n"
   ]
  }
 ],
 "metadata": {
  "kernelspec": {
   "display_name": "Python 3",
   "language": "python",
   "name": "python3"
  },
  "language_info": {
   "codemirror_mode": {
    "name": "ipython",
    "version": 3
   },
   "file_extension": ".py",
   "mimetype": "text/x-python",
   "name": "python",
   "nbconvert_exporter": "python",
   "pygments_lexer": "ipython3",
   "version": "3.7.1"
  }
 },
 "nbformat": 4,
 "nbformat_minor": 2
}
